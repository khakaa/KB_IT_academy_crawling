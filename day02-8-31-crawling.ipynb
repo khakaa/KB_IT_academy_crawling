{
 "cells": [
  {
   "cell_type": "markdown",
   "id": "e8551c46",
   "metadata": {},
   "source": [
    "# 크롤링(Crawling)\n",
    "- 웹페이지에서 필요한 부분 추출"
   ]
  },
  {
   "cell_type": "code",
   "execution_count": 15,
   "id": "86d1e6f2",
   "metadata": {},
   "outputs": [
    {
     "name": "stdout",
     "output_type": "stream",
     "text": [
      "서울특별시 광진구 화양동\n"
     ]
    }
   ],
   "source": [
    "url = \"https://www.kma.go.kr/wid/queryDFSRSS.jsp?zone=1121571000\"\n",
    "\n",
    "import requests\n",
    "\n",
    "res = requests.get(url)\n",
    "\n",
    "# res.text\n",
    "\n",
    "from bs4 import BeautifulSoup\n",
    "bs = BeautifulSoup(res.text,\"html.parser\") # XML 분해\n",
    "\n",
    "지역명 = bs.select_one(\"category\").string # 한 개 태그 검색용 -> 글자만 뽑고 싶으면 .string 사용\n",
    "# bs.select(\"\") # 여러개 태그 검색용 : 리스트 반환\n",
    "\n",
    "print(지역명)"
   ]
  },
  {
   "cell_type": "code",
   "execution_count": 22,
   "id": "52064a2b",
   "metadata": {},
   "outputs": [
    {
     "name": "stdout",
     "output_type": "stream",
     "text": [
      "갯수: 19\n"
     ]
    },
    {
     "data": {
      "text/plain": [
       "[{'hour': '18', 'day': '오늘', 'wfkor': '흐림'},\n",
       " {'hour': '21', 'day': '오늘', 'wfkor': '구름 많음'},\n",
       " {'hour': '24', 'day': '오늘', 'wfkor': '구름 많음'},\n",
       " {'hour': '3', 'day': '내일', 'wfkor': '구름 많음'},\n",
       " {'hour': '6', 'day': '내일', 'wfkor': '맑음'},\n",
       " {'hour': '9', 'day': '내일', 'wfkor': '맑음'},\n",
       " {'hour': '12', 'day': '내일', 'wfkor': '맑음'},\n",
       " {'hour': '15', 'day': '내일', 'wfkor': '맑음'},\n",
       " {'hour': '18', 'day': '내일', 'wfkor': '맑음'},\n",
       " {'hour': '21', 'day': '내일', 'wfkor': '맑음'},\n",
       " {'hour': '24', 'day': '내일', 'wfkor': '맑음'},\n",
       " {'hour': '3', 'day': '모레', 'wfkor': '구름 많음'},\n",
       " {'hour': '6', 'day': '모레', 'wfkor': '구름 많음'},\n",
       " {'hour': '9', 'day': '모레', 'wfkor': '구름 많음'},\n",
       " {'hour': '12', 'day': '모레', 'wfkor': '구름 많음'},\n",
       " {'hour': '15', 'day': '모레', 'wfkor': '구름 많음'},\n",
       " {'hour': '18', 'day': '모레', 'wfkor': '구름 많음'},\n",
       " {'hour': '21', 'day': '모레', 'wfkor': '구름 많음'},\n",
       " {'hour': '24', 'day': '모레', 'wfkor': '흐림'}]"
      ]
     },
     "execution_count": 22,
     "metadata": {},
     "output_type": "execute_result"
    }
   ],
   "source": [
    "# 일기예보데이터는 <data>에 3시간단위로 저장\n",
    "data_list = bs.select('data')\n",
    "print('갯수:', len(data_list))\n",
    "data_arr = []\n",
    "day_dict = {'0' : '오늘', '1' : '내일', '2' : '모레'}\n",
    "\n",
    "for dt in data_list:\n",
    "    data_dict = dict() #일기정보 저장용\n",
    "    \n",
    "    data_dict['hour'] = dt.select_one('hour').string\n",
    "    data_dict['day'] = day_dict[dt.select_one('day').string]\n",
    "    data_dict['wfkor']= dt.select_one('wfkor').string\n",
    "    data_arr.append(data_dict)\n",
    "\n",
    "data_arr"
   ]
  },
  {
   "cell_type": "code",
   "execution_count": null,
   "id": "4e3a580e",
   "metadata": {},
   "outputs": [],
   "source": []
  },
  {
   "cell_type": "markdown",
   "id": "e91408b7",
   "metadata": {},
   "source": [
    "### KOVO 경기결과 크롤링"
   ]
  },
  {
   "cell_type": "code",
   "execution_count": 26,
   "id": "755bd0a9",
   "metadata": {},
   "outputs": [
    {
     "name": "stderr",
     "output_type": "stream",
     "text": [
      "C:\\Users\\Admin\\anaconda3\\lib\\site-packages\\urllib3\\connectionpool.py:1043: InsecureRequestWarning: Unverified HTTPS request is being made to host 'www.kovo.co.kr'. Adding certificate verification is strongly advised. See: https://urllib3.readthedocs.io/en/1.26.x/advanced-usage.html#ssl-warnings\n",
      "  warnings.warn(\n"
     ]
    }
   ],
   "source": [
    "url = 'https://www.kovo.co.kr/game/v-league/11110_schedule_list.asp?season=018&yymm=2022-08&s_part=0&r_round='\n",
    "import requests # 따로 실행하기 위해서 import 한번 더 해줌\n",
    "\n",
    "res = requests.get(url, verify=False).text\n"
   ]
  },
  {
   "cell_type": "code",
   "execution_count": 51,
   "id": "0c83f2d2",
   "metadata": {},
   "outputs": [
    {
     "name": "stdout",
     "output_type": "stream",
     "text": [
      "10. 16 (토) 대한항공  3 : 1  우리카드\n",
      " GS칼텍스  3 : 0  흥국생명\n",
      "10. 17 (일) 현대캐피탈  3 : 1  OK금융그룹\n",
      " 현대건설  3 : 1  IBK기업은행\n",
      "10. 19 (화) 삼성화재  0 : 3  한국전력\n",
      " 페퍼저축은행  1 : 3  KGC인삼공사\n",
      "10. 20 (수) KB손해보험  3 : 2  현대캐피탈\n",
      " 한국도로공사  0 : 3  현대건설\n",
      "10. 21 (목) OK금융그룹  3 : 2  우리카드\n",
      " IBK기업은행  1 : 3  흥국생명\n",
      "10. 22 (금) 삼성화재  3 : 0  대한항공\n",
      " 페퍼저축은행  0 : 3  GS칼텍스\n",
      "10. 23 (토) 한국전력  3 : 1  KB손해보험\n",
      " KGC인삼공사  3 : 0  한국도로공사\n",
      "10. 24 (일) 우리카드  1 : 3  현대캐피탈\n",
      " 현대건설  3 : 1  흥국생명\n",
      "10. 26 (화) OK금융그룹  3 : 1  KB손해보험\n",
      " IBK기업은행  1 : 3  한국도로공사\n",
      "10. 27 (수) 현대캐피탈  3 : 2  대한항공\n",
      " GS칼텍스  1 : 3  현대건설\n",
      "10. 28 (목) 우리카드  3 : 0  한국전력\n",
      " KGC인삼공사  3 : 1  흥국생명\n",
      "10. 29 (금) KB손해보험  2 : 3  삼성화재\n",
      " 한국도로공사  3 : 0  페퍼저축은행\n",
      "10. 30 (토) 대한항공  3 : 0  OK금융그룹\n",
      " GS칼텍스  3 : 1  IBK기업은행\n",
      "10. 31 (일) 한국전력  3 : 0  현대캐피탈\n",
      " KGC인삼공사  0 : 3  현대건설\n"
     ]
    }
   ],
   "source": [
    "from bs4 import BeautifulSoup\n",
    "bs = BeautifulSoup(res, 'html.parser')\n",
    "tbl = bs.select_one('table.lst_schedule')# 공백이 들어가면 자식 태그가 선택됨 .은 클래스를 의미\n",
    "tbl_tr = tbl.select('tr') # 경기결과가 있는 행 여러개\n",
    "\n",
    "for tr in tbl_tr:\n",
    "    if len(tr.select('td.tright')) == 0:\n",
    "        continue # td.tright 가 없으면 넘어감\n",
    "    game_date = tr.select_one('td.date').get_text()\n",
    "    game_result = game_date + ' ' + tr.select_one('td.tright').get_text() + tr.select_one('td.tleft').get_text()\n",
    "    print(game_result)"
   ]
  }
 ],
 "metadata": {
  "kernelspec": {
   "display_name": "Python 3 (ipykernel)",
   "language": "python",
   "name": "python3"
  },
  "language_info": {
   "codemirror_mode": {
    "name": "ipython",
    "version": 3
   },
   "file_extension": ".py",
   "mimetype": "text/x-python",
   "name": "python",
   "nbconvert_exporter": "python",
   "pygments_lexer": "ipython3",
   "version": "3.9.12"
  }
 },
 "nbformat": 4,
 "nbformat_minor": 5
}
